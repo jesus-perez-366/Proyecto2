{
 "cells": [
  {
   "cell_type": "code",
   "execution_count": null,
   "metadata": {},
   "outputs": [],
   "source": [
    "import pandas as pd\n",
    "import re\n",
    "pd.set_option(\"display.max_rows\", 120)"
   ]
  },
  {
   "cell_type": "code",
   "execution_count": null,
   "metadata": {},
   "outputs": [],
   "source": [
    "#Abrimosel archivo para observar los datos que tenemos en el archivo attacks.csv\n",
    "df_data=pd.read_csv(\"data/attacks.csv\",encoding='cp1252')\n",
    "df_data"
   ]
  },
  {
   "cell_type": "code",
   "execution_count": null,
   "metadata": {},
   "outputs": [],
   "source": [
    "#eliminamos todas las filas que no tienen informacion\n",
    "df_data_Content=df_data.drop(range(6302, 25723), axis=0)"
   ]
  },
  {
   "cell_type": "code",
   "execution_count": null,
   "metadata": {},
   "outputs": [],
   "source": [
    "#Con el analisis exploratorio planteamos una hipotesis y en funcion de ella se recopilaron las columnas que no van a propiciar \n",
    "#la informacion necesaria para el analisis\n",
    "df_data_Content=df_data_Content[[\"original order\", \"Case Number\", \"Name\", \"Year\", \"Country\", \"Area\", \"Sex \"]]\n",
    "\n",
    "#renombramos las columnas\n",
    "df_data_Content.columns = [\"Original Order\", \"Case Number\", \"Name\", \"Year\", \"Country\", \"Area\", \"Sex\"]"
   ]
  },
  {
   "cell_type": "code",
   "execution_count": null,
   "metadata": {},
   "outputs": [],
   "source": [
    "#procedemos a reemplazar los valores NaN de la columna Year por 0 para poder filtra la imformacion entre los años 1990 y 1999\n",
    "df_data_Content['Year'] = df_data_Content['Year'].fillna(0)"
   ]
  },
  {
   "cell_type": "code",
   "execution_count": null,
   "metadata": {},
   "outputs": [],
   "source": [
    "#la columna Year esta en float por lo que la convertimos a int para que asi no aparesca el .0 al lado de los años\n",
    "df_data_Content.Year =df_data_Content.Year.astype(int)\n",
    "\n",
    "#procedemos a filtrar la informacion \n",
    "df_data_Content_Year=df_data_Content[(df_data_Content.Year >= 1990) & (df_data_Content.Year <= 1999)]\n"
   ]
  },
  {
   "cell_type": "code",
   "execution_count": null,
   "metadata": {},
   "outputs": [],
   "source": [
    "#Ya filtardo verificamos si segun el orden original de cada final existe algun dato duplicado, si da 0 es que no hay ningun caso duplicado en nuestra data filtrada\n",
    "df_data_Content_Year[\"Original Order\"].duplicated().sum()"
   ]
  },
  {
   "cell_type": "code",
   "execution_count": null,
   "metadata": {},
   "outputs": [],
   "source": [
    "#Como el numero de caso solo tiene formato al principio y luego no continua, sin embargo el numero de caso coincide con el orden\n",
    "#orden original lo que realizamos es una sustitucion de los valores de la columna de numero de casos por el formato ND-#### \n",
    "#los #### corresponden a los valores de la columna orden original\n",
    "#como hemos eliminado columnas procedemos a hacer un reset del index para garantizar que la sustitucion entre las dos columnas \n",
    "#ocurra en la misma fila.\n",
    "\n",
    "df_data_Content_Year=df_data_Content_Year.reset_index()\n",
    "for i in range (0,569):  \n",
    "    df_data_Content_Year.loc[df_data_Content_Year.index == i, 'Case Number'] = \"ND-\"+str(int(df_data_Content_Year['Original Order'][i]))\n",
    "    \n",
    "#eliminamos las columnas inecesarias \n",
    "df_data_clean=df_data_Content_Year.drop(['Original Order','index'], axis=1)\n",
    "\n",
    "\n",
    "\n"
   ]
  },
  {
   "cell_type": "code",
   "execution_count": null,
   "metadata": {},
   "outputs": [],
   "source": [
    "#procederemos a limpiar la columna nombre, para ello revizamos la columna y detectamos varios patrones los cuales procederemos\n",
    "#a elinimar, luego todo lo que quede si  contenido, o tenga \"male\", \"female\", lo remplazaremos con \"Sin Identificar\"\n",
    "\n",
    "patron=[r'\\(.*\\)', r'^\\w.*\\.$', r'\\d.*\\.?', r'^\\w.*\\:', r'^\\w.\\w$', r'^[a-z].*[a-z]$', r'[A-Z]\\W$', r'^[A-Z]\\s.*\\w$', r'^\\w.*\\”$']\n",
    "for i in patron:\n",
    "        df_data_clean.Name=df_data_clean.Name.replace(regex=i, value= '')\n",
    "df_data_clean.Name=df_data_clean.Name.replace([\"female\", \"male\", '', ' '], \"Sin Identificar\")\n",
    "df_data_clean.Name=df_data_clean.Name.fillna(\"Sin Identificar\")\n",
    "\n",
    "\n",
    "#con los patrones quito\n",
    "#los parentesis y su contenido\n",
    "#todo lo que inicia con una letra o numero y termina con punto\n",
    "#todo lo que inicia con una letra o numero y termina con punto\n",
    "#todo lo que es numero\n",
    "#todo lo que inicia con una letra o numero y finalice con \":\"\n",
    "#todo lo que inicia en una letra seguido de un punto y lego otra letra \n",
    "#todo lo inica con letra mayuscula seguido de un espacio y finalice en letra\n",
    "#todo lo que inicie en una letra y finalice en commillar\n",
    "\n",
    "\n",
    "# limpieza de la columna Country\n",
    "df_data_clean.Country=df_data_clean.Country.replace(\"REUNION\", value= 'RE-UNION')\n",
    "\n",
    "#Limpieza de la columan Area\n",
    "patron2=[r'\\,.*\\w', r'^\\w.*\\/', r'^\\d.*\\w$' ]\n",
    "for i in patron2:\n",
    "        df_data_clean.Name=df_data_clean.Name.replace(regex=i, value= '')\n",
    "\n",
    "df_data_clean"
   ]
  },
  {
   "cell_type": "code",
   "execution_count": null,
   "metadata": {},
   "outputs": [],
   "source": [
    "df_data_clean.to_csv('data/Attacks_cleaner.csv')"
   ]
  }
 ],
 "metadata": {
  "kernelspec": {
   "display_name": "Python 3",
   "language": "python",
   "name": "python3"
  },
  "language_info": {
   "codemirror_mode": {
    "name": "ipython",
    "version": 3
   },
   "file_extension": ".py",
   "mimetype": "text/x-python",
   "name": "python",
   "nbconvert_exporter": "python",
   "pygments_lexer": "ipython3",
   "version": "3.8.3"
  }
 },
 "nbformat": 4,
 "nbformat_minor": 2
}
