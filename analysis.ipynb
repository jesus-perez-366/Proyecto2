{
 "cells": [
  {
   "cell_type": "code",
   "execution_count": 1,
   "metadata": {},
   "outputs": [],
   "source": [
    "import seaborn as sns\n",
    "import pandas\n",
    "import matplotlib.pyplot as plt\n",
    "import src.Grafico as gr"
   ]
  },
  {
   "cell_type": "code",
   "execution_count": 2,
   "metadata": {},
   "outputs": [
    {
     "data": {
      "text/html": [
       "<div>\n",
       "<style scoped>\n",
       "    .dataframe tbody tr th:only-of-type {\n",
       "        vertical-align: middle;\n",
       "    }\n",
       "\n",
       "    .dataframe tbody tr th {\n",
       "        vertical-align: top;\n",
       "    }\n",
       "\n",
       "    .dataframe thead th {\n",
       "        text-align: right;\n",
       "    }\n",
       "</style>\n",
       "<table border=\"1\" class=\"dataframe\">\n",
       "  <thead>\n",
       "    <tr style=\"text-align: right;\">\n",
       "      <th></th>\n",
       "      <th>Unnamed: 0</th>\n",
       "      <th>Case Number</th>\n",
       "      <th>Name</th>\n",
       "      <th>Year</th>\n",
       "      <th>Country</th>\n",
       "      <th>Area</th>\n",
       "      <th>Sex</th>\n",
       "    </tr>\n",
       "  </thead>\n",
       "  <tbody>\n",
       "    <tr>\n",
       "      <th>0</th>\n",
       "      <td>0</td>\n",
       "      <td>ND-4224</td>\n",
       "      <td>Tim Wild</td>\n",
       "      <td>1999</td>\n",
       "      <td>NEW ZEALAND</td>\n",
       "      <td>South Island</td>\n",
       "      <td>M</td>\n",
       "    </tr>\n",
       "    <tr>\n",
       "      <th>1</th>\n",
       "      <td>1</td>\n",
       "      <td>ND-4223</td>\n",
       "      <td>Jennifer McDowell</td>\n",
       "      <td>1999</td>\n",
       "      <td>NEW ZEALAND</td>\n",
       "      <td>South Island</td>\n",
       "      <td>F</td>\n",
       "    </tr>\n",
       "    <tr>\n",
       "      <th>2</th>\n",
       "      <td>2</td>\n",
       "      <td>ND-4222</td>\n",
       "      <td>Genna Hayward</td>\n",
       "      <td>1999</td>\n",
       "      <td>NEW ZEALAND</td>\n",
       "      <td>South Island</td>\n",
       "      <td>F</td>\n",
       "    </tr>\n",
       "    <tr>\n",
       "      <th>3</th>\n",
       "      <td>3</td>\n",
       "      <td>ND-4221</td>\n",
       "      <td>Alton Cicero da Silva</td>\n",
       "      <td>1999</td>\n",
       "      <td>BRAZIL</td>\n",
       "      <td>Pernambuco</td>\n",
       "      <td>M</td>\n",
       "    </tr>\n",
       "    <tr>\n",
       "      <th>4</th>\n",
       "      <td>4</td>\n",
       "      <td>ND-4220</td>\n",
       "      <td>Joo Whan Hong</td>\n",
       "      <td>1999</td>\n",
       "      <td>USA</td>\n",
       "      <td>California</td>\n",
       "      <td>M</td>\n",
       "    </tr>\n",
       "  </tbody>\n",
       "</table>\n",
       "</div>"
      ],
      "text/plain": [
       "   Unnamed: 0 Case Number                   Name  Year      Country  \\\n",
       "0           0     ND-4224               Tim Wild  1999  NEW ZEALAND   \n",
       "1           1     ND-4223      Jennifer McDowell  1999  NEW ZEALAND   \n",
       "2           2     ND-4222         Genna Hayward   1999  NEW ZEALAND   \n",
       "3           3     ND-4221  Alton Cicero da Silva  1999       BRAZIL   \n",
       "4           4     ND-4220          Joo Whan Hong  1999          USA   \n",
       "\n",
       "           Area Sex  \n",
       "0  South Island   M  \n",
       "1  South Island   F  \n",
       "2  South Island   F  \n",
       "3    Pernambuco   M  \n",
       "4    California   M  "
      ]
     },
     "execution_count": 2,
     "metadata": {},
     "output_type": "execute_result"
    }
   ],
   "source": [
    "df_Attacks= pandas.read_csv(\"data/Attacks_cleaner.csv\")\n",
    "df_Attacks.head()"
   ]
  },
  {
   "cell_type": "code",
   "execution_count": 3,
   "metadata": {},
   "outputs": [
    {
     "data": {
      "text/plain": [
       "Country\n",
       "AUSTRALIA        70\n",
       "BAHAMAS          11\n",
       "BRAZIL           42\n",
       "HONG KONG        10\n",
       "JAPAN            10\n",
       "RE-UNION         18\n",
       "SOUTH AFRICA     58\n",
       "USA             278\n",
       "Name: Count Country, dtype: int64"
      ]
     },
     "execution_count": 3,
     "metadata": {},
     "output_type": "execute_result"
    }
   ],
   "source": [
    "df_Country_count=df_Attacks.groupby(\"Country\").count()\n",
    "df_Country_count.columns = [\"Count Country\", \"Case Number\", \"Name\", \"Year\", \"Area\", \"Sex\"]\n",
    "df_Country_Attacks=df_Country_count[(df_Country_count[\"Count Country\"] >= 10)]\n",
    "df_Country_Attacks[\"Count Country\"]"
   ]
  },
  {
   "cell_type": "code",
   "execution_count": 4,
   "metadata": {},
   "outputs": [
    {
     "data": {
      "image/png": "[encoded data removed]",
      "text/plain": [
       "<Figure size 432x288 with 1 Axes>"
      ]
     },
     "metadata": {
      "needs_background": "light"
     },
     "output_type": "display_data"
    },
    {
     "data": {
      "text/plain": [
       "<Figure size 864x360 with 0 Axes>"
      ]
     },
     "metadata": {},
     "output_type": "display_data"
    }
   ],
   "source": [
    "df_Country_Attacks[\"Count Country\"].plot(kind='bar', color=['red','yellow',\"green\", \"purple\",'orange','black','silver','blue'])\n",
    "gr.etiquetas('Paises con mas de 10 ataques entre 1990-1999','Paises','Numero de Ataques',17)\n"
   ]
  },
  {
   "cell_type": "code",
   "execution_count": 5,
   "metadata": {},
   "outputs": [
    {
     "data": {
      "text/plain": [
       "Area\n",
       "California          35\n",
       "Florida            151\n",
       "Georgia              1\n",
       "Hawaii              44\n",
       "Maryland             1\n",
       "Massachusetts        1\n",
       "Mississippi          1\n",
       "Missouri             1\n",
       "North Carolina      11\n",
       "North Carolina       1\n",
       "Oregon               7\n",
       "South Carolina      15\n",
       "Texas                5\n",
       "Virginia             4\n",
       "Name: Area, dtype: int64"
      ]
     },
     "execution_count": 5,
     "metadata": {},
     "output_type": "execute_result"
    }
   ],
   "source": [
    "df_Country_Area_Attacke=df_Attacks[(df_Attacks.Country == \"USA\")].groupby(\"Area\").Area.count()\n",
    "df_Country_Area_Attacke"
   ]
  },
  {
   "cell_type": "code",
   "execution_count": 6,
   "metadata": {},
   "outputs": [
    {
     "data": {
      "text/plain": [
       "Area\n",
       "California         35\n",
       "Florida           151\n",
       "Hawaii             44\n",
       "North Carolina     11\n",
       "South Carolina     15\n",
       "Name: Area, dtype: int64"
      ]
     },
     "execution_count": 6,
     "metadata": {},
     "output_type": "execute_result"
    }
   ],
   "source": [
    "df_Country_Area_Attacke_more_10=df_Country_Area_Attacke[df_Country_Area_Attacke>10]\n",
    "df_Country_Area_Attacke_more_10"
   ]
  },
  {
   "cell_type": "code",
   "execution_count": 7,
   "metadata": {},
   "outputs": [
    {
     "data": {
      "image/png": "[encoded data removed]",
      "text/plain": [
       "<Figure size 432x288 with 1 Axes>"
      ]
     },
     "metadata": {
      "needs_background": "light"
     },
     "output_type": "display_data"
    },
    {
     "data": {
      "text/plain": [
       "<Figure size 864x360 with 0 Axes>"
      ]
     },
     "metadata": {},
     "output_type": "display_data"
    }
   ],
   "source": [
    "df_Country_Area_Attacke_more_10.plot(kind='bar', color=['red','blue','orange','black','silver'])\n",
    "gr.etiquetas('Areas de USA con mas de 10 ataques entre 1990-1999','Areas','Numero de Ataques',17)\n"
   ]
  },
  {
   "cell_type": "code",
   "execution_count": 8,
   "metadata": {},
   "outputs": [
    {
     "data": {
      "text/html": [
       "<div>\n",
       "<style scoped>\n",
       "    .dataframe tbody tr th:only-of-type {\n",
       "        vertical-align: middle;\n",
       "    }\n",
       "\n",
       "    .dataframe tbody tr th {\n",
       "        vertical-align: top;\n",
       "    }\n",
       "\n",
       "    .dataframe thead th {\n",
       "        text-align: right;\n",
       "    }\n",
       "</style>\n",
       "<table border=\"1\" class=\"dataframe\">\n",
       "  <thead>\n",
       "    <tr style=\"text-align: right;\">\n",
       "      <th></th>\n",
       "      <th>Area</th>\n",
       "      <th>Sex</th>\n",
       "    </tr>\n",
       "  </thead>\n",
       "  <tbody>\n",
       "    <tr>\n",
       "      <th>4</th>\n",
       "      <td>California</td>\n",
       "      <td>M</td>\n",
       "    </tr>\n",
       "    <tr>\n",
       "      <th>6</th>\n",
       "      <td>Florida</td>\n",
       "      <td>M</td>\n",
       "    </tr>\n",
       "    <tr>\n",
       "      <th>7</th>\n",
       "      <td>Florida</td>\n",
       "      <td>M</td>\n",
       "    </tr>\n",
       "    <tr>\n",
       "      <th>8</th>\n",
       "      <td>Hawaii</td>\n",
       "      <td>F</td>\n",
       "    </tr>\n",
       "    <tr>\n",
       "      <th>9</th>\n",
       "      <td>California</td>\n",
       "      <td>M</td>\n",
       "    </tr>\n",
       "    <tr>\n",
       "      <th>...</th>\n",
       "      <td>...</td>\n",
       "      <td>...</td>\n",
       "    </tr>\n",
       "    <tr>\n",
       "      <th>562</th>\n",
       "      <td>Hawaii</td>\n",
       "      <td>M</td>\n",
       "    </tr>\n",
       "    <tr>\n",
       "      <th>565</th>\n",
       "      <td>Hawaii</td>\n",
       "      <td>M</td>\n",
       "    </tr>\n",
       "    <tr>\n",
       "      <th>566</th>\n",
       "      <td>Florida</td>\n",
       "      <td>M</td>\n",
       "    </tr>\n",
       "    <tr>\n",
       "      <th>567</th>\n",
       "      <td>California</td>\n",
       "      <td>M</td>\n",
       "    </tr>\n",
       "    <tr>\n",
       "      <th>568</th>\n",
       "      <td>Florida</td>\n",
       "      <td>M</td>\n",
       "    </tr>\n",
       "  </tbody>\n",
       "</table>\n",
       "<p>257 rows × 2 columns</p>\n",
       "</div>"
      ],
      "text/plain": [
       "           Area Sex\n",
       "4    California   M\n",
       "6       Florida   M\n",
       "7       Florida   M\n",
       "8        Hawaii   F\n",
       "9    California   M\n",
       "..          ...  ..\n",
       "562      Hawaii   M\n",
       "565      Hawaii   M\n",
       "566     Florida   M\n",
       "567  California   M\n",
       "568     Florida   M\n",
       "\n",
       "[257 rows x 2 columns]"
      ]
     },
     "execution_count": 8,
     "metadata": {},
     "output_type": "execute_result"
    }
   ],
   "source": [
    "df_Only_USA=df_Attacks[(df_Attacks.Country == \"USA\")]\n",
    "df_USA=df_Only_USA[[\"Area\", \"Sex\"]]\n",
    "df_USA=df_USA[df_USA.Area.str.contains(\"California|Florida|Hawaii|North Carolina|South Carolina\")]\n",
    "df_USA"
   ]
  },
  {
   "cell_type": "code",
   "execution_count": 9,
   "metadata": {},
   "outputs": [
    {
     "name": "stderr",
     "output_type": "stream",
     "text": [
      "C:\\Users\\firem\\anaconda3\\lib\\site-packages\\seaborn\\_decorators.py:36: FutureWarning: Pass the following variable as a keyword arg: x. From version 0.12, the only valid positional argument will be `data`, and passing other arguments without an explicit keyword will result in an error or misinterpretation.\n",
      "  warnings.warn(\n"
     ]
    },
    {
     "data": {
      "image/png": "[encoded data removed]",
      "text/plain": [
       "<Figure size 432x288 with 1 Axes>"
      ]
     },
     "metadata": {
      "needs_background": "light"
     },
     "output_type": "display_data"
    },
    {
     "data": {
      "text/plain": [
       "<Figure size 864x360 with 0 Axes>"
      ]
     },
     "metadata": {},
     "output_type": "display_data"
    }
   ],
   "source": [
    "sns.countplot(df_USA.Area, hue=df_USA.Sex)\n",
    "plt.xticks(rotation=90)\n",
    "gr.etiquetas('Areas de USA con mas de 10 ataques entre 1990-1999 por Genero','Areas','Numero de Ataques',17)\n",
    "\n",
    "\n"
   ]
  },
  {
   "cell_type": "markdown",
   "metadata": {},
   "source": [
    "# Hipotesis\n",
    "\"En la decada de los 90 el pais que tuvo mayor numero de ataques fueron los Estados Unidos, y estos ataque se localizaron mas en california especificamente en el genero masculino.\"\n",
    "\n"
   ]
  },
  {
   "cell_type": "markdown",
   "metadata": {},
   "source": [
    "# Analisis de Resultados\n",
    "\n",
    "Para determinar si efectivamente Estados unidos presentaba mayor numero de ataques, se realizo una representacion grafica de barras sobro los ataque ocurridos entre 1990-1999, pero ademas se delimito la poblacion descartando los paises que tuvieron menos de 10 ataques, esto con la finalidad de tener un grafico mas claro, con menos informacion y de igual manera que representace la informacion requerida. Por lo tanto en el grafico \"Paises con mas de 10 ataques entre 1990-1999\" se puede observar que Estados Unidos fue el que tuvo mayor numero de ataques (278). Por lo que en primera instancia la hipotesis es parcialmente cierta.\n",
    "\n",
    "Para determinar cual fue el area con mas ataques dentro de los Estados Unidos, se procedio a realizar un fltro del dataset donde solo se tomo encuenta el pais \"Estados Unidos\" y posteriormente se agrupo por Area. Dicha informacion obtenia nuevamente se filtro excluyendo las areas con casos menores a 10 para asi realizar la representacion grafica en barras de los datos. Los resultados obtenidos fue la 3ra area con mas ataques (35), pero el area principal que concentro mayor numero de ataques fue Florida (151). Por lo tanto con estos resultados se puede inferir que la hipotesis no es cierta ya que no concuerda con el area mas afectada.\n",
    "\n",
    "Sin embargo en la hipotesis tambien se planteaba que los casos se frecuentaban mas en el genero masculino, por ello se realizo un 3er grafico donde se representaron los mismo datos del grafico 2 pero esta vez subdivididos por generon, dicho grafico proporcino que efectivamente el genero masculino se ve afectado con mayor proporcion que el femenino.\n",
    "\n",
    "Ante los resultados expuestos la hipotesis planteada es falsa ya que uno de los argumentos planteados no se cumple.\n",
    "\n",
    "Es interesante observar estos resultados ya que da indicio  diversas pregunta como el porque Estados Unidos tiene mas Ataques, o porque los ataques son mas en hombres que en mujeres, sin embargo para dar respuesta a esas interrogantes se requeriria de mayor informacion.\n",
    "\n",
    "\n"
   ]
  }
 ],
 "metadata": {
  "kernelspec": {
   "display_name": "Python 3",
   "language": "python",
   "name": "python3"
  },
  "language_info": {
   "codemirror_mode": {
    "name": "ipython",
    "version": 3
   },
   "file_extension": ".py",
   "mimetype": "text/x-python",
   "name": "python",
   "nbconvert_exporter": "python",
   "pygments_lexer": "ipython3",
   "version": "3.8.3"
  }
 },
 "nbformat": 4,
 "nbformat_minor": 4
}
