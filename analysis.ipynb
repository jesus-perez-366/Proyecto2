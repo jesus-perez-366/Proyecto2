{
 "cells": [
  {
   "cell_type": "code",
   "execution_count": null,
   "metadata": {},
   "outputs": [],
   "source": [
    "import seaborn as sns\n",
    "import pandas\n",
    "import matplotlib.pyplot as plt\n",
    "import src.Grafico as gr"
   ]
  },
  {
   "cell_type": "code",
   "execution_count": null,
   "metadata": {},
   "outputs": [],
   "source": [
    "df_Attacks= pandas.read_csv(\"data/Attacks_cleaner.csv\")\n",
    "df_Attacks.head()"
   ]
  },
  {
   "cell_type": "code",
   "execution_count": null,
   "metadata": {},
   "outputs": [],
   "source": [
    "df_Country_count=df_Attacks.groupby(\"Country\").count()\n",
    "df_Country_count.columns = [\"Count Country\", \"Case Number\", \"Name\", \"Year\", \"Area\", \"Sex\"]\n",
    "df_Country_Attacks=df_Country_count[(df_Country_count[\"Count Country\"] >= 10)]\n",
    "df_Country_Attacks[\"Count Country\"]"
   ]
  },
  {
   "cell_type": "code",
   "execution_count": null,
   "metadata": {},
   "outputs": [],
   "source": [
    "df_Country_Attacks[\"Count Country\"].plot(kind='bar', color=['red','yellow',\"green\", \"purple\",'orange','black','silver','blue'])\n",
    "gr.etiquetas('Paises con mas de 10 ataques entre 1990-1999','Paises','Numero de Ataques',17)\n"
   ]
  },
  {
   "cell_type": "code",
   "execution_count": null,
   "metadata": {},
   "outputs": [],
   "source": [
    "df_Country_Area_Attacke=df_Attacks[(df_Attacks.Country == \"USA\")].groupby(\"Area\").Area.count()\n",
    "df_Country_Area_Attacke"
   ]
  },
  {
   "cell_type": "code",
   "execution_count": null,
   "metadata": {},
   "outputs": [],
   "source": [
    "df_Country_Area_Attacke_more_10=df_Country_Area_Attacke[df_Country_Area_Attacke>10]\n",
    "df_Country_Area_Attacke_more_10"
   ]
  },
  {
   "cell_type": "code",
   "execution_count": null,
   "metadata": {},
   "outputs": [],
   "source": [
    "df_Country_Area_Attacke_more_10.plot(kind='bar', color=['red','blue','orange','black','silver'])\n",
    "gr.etiquetas('Areas de USA con mas de 10 ataques entre 1990-1999','Areas','Numero de Ataques',17)\n"
   ]
  },
  {
   "cell_type": "code",
   "execution_count": null,
   "metadata": {},
   "outputs": [],
   "source": [
    "df_Only_USA=df_Attacks[(df_Attacks.Country == \"USA\")]\n",
    "df_USA=df_Only_USA[[\"Area\", \"Sex\"]]\n",
    "df_USA=df_USA[df_USA.Area.str.contains(\"California|Florida|Hawaii|North Carolina|South Carolina\")]\n",
    "df_USA"
   ]
  },
  {
   "cell_type": "code",
   "execution_count": null,
   "metadata": {},
   "outputs": [],
   "source": [
    "sns.countplot(df_USA.Area, hue=df_USA.Sex)\n",
    "plt.xticks(rotation=90)\n",
    "gr.etiquetas('Areas de USA con mas de 10 ataques entre 1990-1999 por Genero','Areas','Numero de Ataques',17)\n",
    "\n",
    "\n"
   ]
  },
  {
   "cell_type": "markdown",
   "metadata": {},
   "source": [
    "# Hipotesis\n",
    "\"En la decada de los 90 el pais que tuvo mayor numero de ataques fueron los Estados Unidos, y estos ataque se localizaron mas en california especificamente en el genero masculino.\"\n",
    "\n"
   ]
  },
  {
   "cell_type": "markdown",
   "metadata": {},
   "source": [
    "# Analisis de Resultados\n",
    "\n",
    "Para determinar si efectivamente Estados unidos presentaba mayor numero de ataques, se realizo una representacion grafica de barras sobro los ataque ocurridos entre 1990-1999, pero ademas se delimito la poblacion descartando los paises que tuvieron menos de 10 ataques, esto con la finalidad de tener un grafico mas claro, con menos informacion y de igual manera que representace la informacion requerida. Por lo tanto en el grafico \"Paises con mas de 10 ataques entre 1990-1999\" se puede observar que Estados Unidos fue el que tuvo mayor numero de ataques (278). Por lo que en primera instancia la hipotesis es parcialmente cierta.\n",
    "\n",
    "Para determinar cual fue el area con mas ataques dentro de los Estados Unidos, se procedio a realizar un fltro del dataset donde solo se tomo encuenta el pais \"Estados Unidos\" y posteriormente se agrupo por Area. Dicha informacion obtenia nuevamente se filtro excluyendo las areas con casos menores a 10 para asi realizar la representacion grafica en barras de los datos. Los resultados obtenidos fue la 3ra area con mas ataques (35), pero el area principal que concentro mayor numero de ataques fue Florida (151). Por lo tanto con estos resultados se puede inferir que la hipotesis no es cierta ya que no concuerda con el area mas afectada.\n",
    "\n",
    "Sin embargo en la hipotesis tambien se planteaba que los casos se frecuentaban mas en el genero masculino, por ello se realizo un 3er grafico donde se representaron los mismo datos del grafico 2 pero esta vez subdivididos por generon, dicho grafico proporcino que efectivamente el genero masculino se ve afectado con mayor proporcion que el femenino.\n",
    "\n",
    "Ante los resultados expuestos la hipotesis planteada es falsa ya que uno de los argumentos planteados no se cumple.\n",
    "\n",
    "Es interesante observar estos resultados ya que da indicio  diversas pregunta como el porque Estados Unidos tiene mas Ataques, o porque los ataques son mas en hombres que en mujeres, sin embargo para dar respuesta a esas interrogantes se requeriria de mayor informacion.\n",
    "\n",
    "\n"
   ]
  }
 ],
 "metadata": {
  "kernelspec": {
   "display_name": "Python 3",
   "language": "python",
   "name": "python3"
  },
  "language_info": {
   "codemirror_mode": {
    "name": "ipython",
    "version": 3
   },
   "file_extension": ".py",
   "mimetype": "text/x-python",
   "name": "python",
   "nbconvert_exporter": "python",
   "pygments_lexer": "ipython3",
   "version": "3.8.3"
  }
 },
 "nbformat": 4,
 "nbformat_minor": 4
}
